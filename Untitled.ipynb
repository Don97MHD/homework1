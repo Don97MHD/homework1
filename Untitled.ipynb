{
 "cells": [
  {
   "cell_type": "code",
   "execution_count": null,
   "id": "1b890235",
   "metadata": {},
   "outputs": [],
   "source": [
    "print('hello word')"
   ]
  },
  {
   "cell_type": "markdown",
   "id": "a497ea51",
   "metadata": {},
   "source": [
    "# العمليات الحسابية"
   ]
  },
  {
   "cell_type": "code",
   "execution_count": 11,
   "id": "6bd9e282",
   "metadata": {},
   "outputs": [
    {
     "name": "stdout",
     "output_type": "stream",
     "text": [
      "1+1= 2\n",
      "2-5= -3\n",
      "10*3= 30\n",
      "5/2= 2.5\n",
      "5//2= 2\n",
      "4/2= 2.0\n",
      "4//2= 2\n",
      "4**2= 16\n",
      "9%2= 1\n"
     ]
    }
   ],
   "source": [
    "print('1+1=',1+1)\n",
    "print('2-5=',2-5)\n",
    "print('10*3=',10*3)\n",
    "print('5/2=',5/2)\n",
    "print('5//2=',5//2)\n",
    "print('4/2=',4/2)\n",
    "print('4//2=',4//2)\n",
    "print('4**2=',4**2)\n",
    "print('9%2=',9%2)"
   ]
  },
  {
   "cell_type": "code",
   "execution_count": 2,
   "id": "c562fdf3",
   "metadata": {},
   "outputs": [
    {
     "name": "stdout",
     "output_type": "stream",
     "text": [
      "The Zen of Python, by Tim Peters\n",
      "\n",
      "Beautiful is better than ugly.\n",
      "Explicit is better than implicit.\n",
      "Simple is better than complex.\n",
      "Complex is better than complicated.\n",
      "Flat is better than nested.\n",
      "Sparse is better than dense.\n",
      "Readability counts.\n",
      "Special cases aren't special enough to break the rules.\n",
      "Although practicality beats purity.\n",
      "Errors should never pass silently.\n",
      "Unless explicitly silenced.\n",
      "In the face of ambiguity, refuse the temptation to guess.\n",
      "There should be one-- and preferably only one --obvious way to do it.\n",
      "Although that way may not be obvious at first unless you're Dutch.\n",
      "Now is better than never.\n",
      "Although never is often better than *right* now.\n",
      "If the implementation is hard to explain, it's a bad idea.\n",
      "If the implementation is easy to explain, it may be a good idea.\n",
      "Namespaces are one honking great idea -- let's do more of those!\n"
     ]
    }
   ],
   "source": [
    "import this"
   ]
  },
  {
   "cell_type": "markdown",
   "id": "516eec02",
   "metadata": {},
   "source": [
    "# أولوية العمليات الحسابية"
   ]
  },
  {
   "cell_type": "code",
   "execution_count": 10,
   "id": "a5a1d4b4",
   "metadata": {},
   "outputs": [
    {
     "name": "stdout",
     "output_type": "stream",
     "text": [
      "34\n"
     ]
    }
   ],
   "source": [
    "print(5+5*2+5+2**3+2*(5-2))"
   ]
  },
  {
   "cell_type": "code",
   "execution_count": 8,
   "id": "dcc6f211",
   "metadata": {},
   "outputs": [
    {
     "data": {
      "text/plain": [
       "-9.0"
      ]
     },
     "execution_count": 8,
     "metadata": {},
     "output_type": "execute_result"
    }
   ],
   "source": [
    "a=-9\n",
    "b=float(a)\n",
    "b"
   ]
  },
  {
   "cell_type": "markdown",
   "id": "f088fd1b",
   "metadata": {},
   "source": [
    "# العمليات المنطقية"
   ]
  },
  {
   "cell_type": "code",
   "execution_count": 2,
   "id": "da297037",
   "metadata": {},
   "outputs": [
    {
     "name": "stdout",
     "output_type": "stream",
     "text": [
      "False\n",
      "True\n",
      "False\n"
     ]
    }
   ],
   "source": [
    "print(1==2)\n",
    "print(2>1)\n",
    "print(1!=1)\n",
    ".\n",
    ".\n",
    "."
   ]
  },
  {
   "cell_type": "markdown",
   "id": "0985848a",
   "metadata": {},
   "source": [
    "# numbers"
   ]
  },
  {
   "cell_type": "code",
   "execution_count": 54,
   "id": "4c2e2908",
   "metadata": {},
   "outputs": [
    {
     "name": "stdout",
     "output_type": "stream",
     "text": [
      "abs(a)= 5\n",
      "int(b)= 3\n",
      "float(a)= -5.0\n",
      "round(b)= 4\n",
      "round(b,0)= 4.0\n",
      "round(b,1)= 3.6\n",
      "round(b,2)= 3.56\n",
      "round(b,3)= 3.562\n",
      "round(b,4)= 3.562\n"
     ]
    }
   ],
   "source": [
    "a=-5\n",
    "b=3.562\n",
    "c=2+4j\n",
    "print('abs(a)=',abs(a))\n",
    "print('int(b)=',int(b))\n",
    "print('float(a)=',float(a))\n",
    "print('round(b)=',round(b))\n",
    "print('round(b,0)=',round(b,0))\n",
    "print('round(b,1)=',round(b,1))\n",
    "print('round(b,2)=',round(b,2))\n",
    "print('round(b,3)=',round(b,3))\n",
    "print('round(b,4)=',round(b,4))"
   ]
  },
  {
   "cell_type": "markdown",
   "id": "4fa556ae",
   "metadata": {},
   "source": [
    "# String"
   ]
  },
  {
   "cell_type": "code",
   "execution_count": 17,
   "id": "7c4e95fb",
   "metadata": {},
   "outputs": [
    {
     "name": "stdout",
     "output_type": "stream",
     "text": [
      " \n"
     ]
    }
   ],
   "source": [
    "s='i am immutable and you cannot change me'\n",
    "print(s[-1])\n",
    "#s[0]='ali'"
   ]
  },
  {
   "cell_type": "code",
   "execution_count": 19,
   "id": "b25a11df",
   "metadata": {},
   "outputs": [
    {
     "name": "stdout",
     "output_type": "stream",
     "text": [
      "hellomy name is mohammad\n",
      "hello,\n",
      "my name is mohammad\n",
      "hello,\n",
      " my name is ali\n"
     ]
    }
   ],
   "source": [
    "#n=\"hello\\ my name is mohammad\"\n",
    "m=\"\"\"hello,\n",
    "my name is mohammad\"\"\"\n",
    "a=\"hello,\\n my name is ali\"\n",
    "print(n)\n",
    "print(m)\n",
    "print(a)"
   ]
  },
  {
   "cell_type": "code",
   "execution_count": 24,
   "id": "f7eec031",
   "metadata": {
    "scrolled": true
   },
   "outputs": [
    {
     "name": "stdout",
     "output_type": "stream",
     "text": [
      "39\n",
      "I AM IMMUTABLE AND YOU CANNOT CHANGE ME\n",
      "python\n",
      "4\n",
      "Hello\n",
      "Hello Word\n",
      " ab\n",
      "ab \n",
      "ab\n"
     ]
    }
   ],
   "source": [
    "s='i am immutable and you cannot change me'\n",
    "print(len(s))\n",
    "print(s.upper())\n",
    "print(\"PYthoN\".lower())\n",
    "print(s.count('m'))\n",
    "print('hEllo'.capitalize())\n",
    "print('hEllo woRD'.title())\n",
    "print(\" ab \".rstrip())\n",
    "print(\" ab \".lstrip())\n",
    "print(\" ab \".strip())"
   ]
  },
  {
   "cell_type": "code",
   "execution_count": 60,
   "id": "6dd414ac",
   "metadata": {},
   "outputs": [
    {
     "name": "stdout",
     "output_type": "stream",
     "text": [
      "s[0]= i\n",
      "s[-1]= e\n",
      "s[-2]= m\n",
      "s[5]= i\n"
     ]
    }
   ],
   "source": [
    "s='i am immutable and you cannot change me'\n",
    "print('s[0]=',s[0])\n",
    "print('s[-1]=',s[-1])\n",
    "print('s[-2]=',s[-2])\n",
    "print('s[5]=',s[5])"
   ]
  },
  {
   "cell_type": "code",
   "execution_count": 69,
   "id": "75b5047f",
   "metadata": {},
   "outputs": [
    {
     "data": {
      "text/plain": [
       "'ab'"
      ]
     },
     "execution_count": 69,
     "metadata": {},
     "output_type": "execute_result"
    }
   ],
   "source": [
    "s='python'\n",
    "\" ab \".strip()"
   ]
  },
  {
   "cell_type": "markdown",
   "id": "69ed4bed",
   "metadata": {},
   "source": [
    "# List"
   ]
  },
  {
   "cell_type": "code",
   "execution_count": 71,
   "id": "cdb2601c",
   "metadata": {},
   "outputs": [
    {
     "name": "stdout",
     "output_type": "stream",
     "text": [
      "l[0]= sara\n",
      "l[3]= 6.3\n",
      "l[4]= [1, 3, 'ali']\n",
      "l[-1]= [1, 3, 'ali']\n"
     ]
    }
   ],
   "source": [
    "l=['sara','karam',5,6.3,[1,3,'ali']]\n",
    "print('l[0]=',l[0])\n",
    "print('l[3]=',l[3])\n",
    "print('l[4]=',l[4])\n",
    "print('l[-1]=',l[-1])"
   ]
  },
  {
   "cell_type": "code",
   "execution_count": 29,
   "id": "0f58bbfc",
   "metadata": {},
   "outputs": [
    {
     "name": "stdout",
     "output_type": "stream",
     "text": [
      "3\n",
      "11\n",
      "2\n",
      "23\n",
      "1\n",
      "2\n",
      "['ni', 'spam']\n",
      "[4, 2, 11, 6, 11]\n",
      "[4, 2, 11, 6, 11, 3, 5]\n",
      "['ali', 1997]\n",
      "[4, 11, 6, 11, 3, 5]\n",
      "['a', 1, 2, 'b']\n",
      "[0, 0, 0]\n"
     ]
    }
   ],
   "source": [
    "t=[\"ali\",1997,\"mohammad\"]\n",
    "nums=[4,2,11,6]\n",
    "words=[\"spam\",\"ni\"]\n",
    "print(len(t))\n",
    "print(max(nums))\n",
    "print(min(nums))\n",
    "print(sum(nums))\n",
    "print(nums.count(11))\n",
    "print(nums.index(11))\n",
    "words.reverse()\n",
    "print(words)\n",
    "nums.append(11)\n",
    "print(nums)\n",
    "nums.extend([3,5])\n",
    "print(nums)\n",
    "del t[-1]\n",
    "print(t)\n",
    "nums.remove(2)\n",
    "print(nums)\n",
    "words.insert(1,\"wink\")\n",
    "print(['a',1]+[2,'b'])\n",
    "print([0]*3)"
   ]
  },
  {
   "cell_type": "code",
   "execution_count": 37,
   "id": "d9cb9c5d",
   "metadata": {},
   "outputs": [
    {
     "name": "stdout",
     "output_type": "stream",
     "text": [
      "['a', 'b', 'c']\n",
      "['hello', 'word']\n",
      "['a,b,c']\n",
      "['hell', ' w', 'rd']\n"
     ]
    }
   ],
   "source": [
    "s1='a,b,c'\n",
    "s2='hello word'\n",
    "l1=s1.split(',')\n",
    "l2=s2.split(' ')\n",
    "print(l1)\n",
    "print(l2)\n",
    "l3=s1.split()\n",
    "l4=s2.split('o')\n",
    "print(l3)\n",
    "print(l4)"
   ]
  },
  {
   "cell_type": "code",
   "execution_count": 38,
   "id": "8449c0b1",
   "metadata": {},
   "outputs": [
    {
     "name": "stdout",
     "output_type": "stream",
     "text": [
      "a b c\n",
      "a*b*c\n",
      "a123b123c\n"
     ]
    }
   ],
   "source": [
    "l=['a','b','c']\n",
    "s=' '.join(l)\n",
    "s2='*'.join(l)\n",
    "s3='123'.join(l)\n",
    "print(s)\n",
    "print(s2)\n",
    "print(s3)"
   ]
  },
  {
   "cell_type": "code",
   "execution_count": 41,
   "id": "1124dade",
   "metadata": {},
   "outputs": [
    {
     "name": "stdout",
     "output_type": "stream",
     "text": [
      "list1[1:3]= ['b', 'c']\n",
      "list1[-4:-2]= ['c', 'd']\n",
      "list1[:4]= ['a', 'b', 'c', 'd']\n",
      "list1[4:]= ['e', 'f']\n",
      "new list is  ['a', 'd', 'e', 'f']\n",
      "list1[2:len(list1)]= ['e', 'f']\n",
      "list1[1:3][1]= e\n",
      "list1[3:2]= []\n"
     ]
    }
   ],
   "source": [
    "list1=['a','b','c','d','e','f']\n",
    "print('list1[1:3]=',list1[1:3])\n",
    "print('list1[-4:-2]=',list1[-4:-2])\n",
    "print('list1[:4]=',list1[:4])\n",
    "print('list1[4:]=',list1[4:])\n",
    "del list1[1:3]\n",
    "print('new list is ',list1)\n",
    "print('list1[2:len(list1)]=',list1[2:len(list1)])\n",
    "print('list1[1:3][1]=',list1[1:3][1])\n",
    "print('list1[3:2]=',list1[3:2])"
   ]
  },
  {
   "cell_type": "code",
   "execution_count": 43,
   "id": "4fdecfc0",
   "metadata": {},
   "outputs": [
    {
     "name": "stdout",
     "output_type": "stream",
     "text": [
      "عنوان المتغير l1 في الذاكرة 1322454051072\n",
      "عنوان المتغير l2 في الذاكرة 1322454051072\n",
      "['x', 'b', 'c']\n"
     ]
    }
   ],
   "source": [
    "l1=['a','b','c']\n",
    "l2=l1\n",
    "print('عنوان المتغير l1 في الذاكرة',id(l1))\n",
    "print('عنوان المتغير l2 في الذاكرة',id(l2))\n",
    "\n",
    "l2[0]='x'\n",
    "print(l1)"
   ]
  },
  {
   "cell_type": "code",
   "execution_count": 44,
   "id": "8d8e5651",
   "metadata": {},
   "outputs": [
    {
     "name": "stdout",
     "output_type": "stream",
     "text": [
      "عنوان المتغير l1 في الذاكرة 1322454115520\n",
      "عنوان المتغير l2 في الذاكرة 1322454099200\n",
      "['a', 'b', 'c']\n"
     ]
    }
   ],
   "source": [
    "l1=['a','b','c']\n",
    "l2=list(l1)\n",
    "print('عنوان المتغير l1 في الذاكرة',id(l1))\n",
    "print('عنوان المتغير l2 في الذاكرة',id(l2))\n",
    "\n",
    "l2[0]='x'\n",
    "print(l1)"
   ]
  },
  {
   "cell_type": "code",
   "execution_count": 45,
   "id": "eb547843",
   "metadata": {},
   "outputs": [
    {
     "name": "stdout",
     "output_type": "stream",
     "text": [
      "عنوان المتغير l1 في الذاكرة 1322454102400\n",
      "عنوان المتغير l2 في الذاكرة 1322454093952\n",
      "['a', 'b', 'c']\n"
     ]
    }
   ],
   "source": [
    "l1=['a','b','c']\n",
    "l2=l1[:]\n",
    "print('عنوان المتغير l1 في الذاكرة',id(l1))\n",
    "print('عنوان المتغير l2 في الذاكرة',id(l2))\n",
    "\n",
    "l2[0]='x'\n",
    "print(l1)"
   ]
  },
  {
   "cell_type": "code",
   "execution_count": 50,
   "id": "115cbf2d",
   "metadata": {},
   "outputs": [
    {
     "name": "stdout",
     "output_type": "stream",
     "text": [
      "i[1]= [5, 2, ['first', 'second']]\n",
      "i[1][2]= ['first', 'second']\n",
      "i[1][2][0]= first\n",
      "i[1][2][0][0]= f\n",
      "i[-1]= 10\n"
     ]
    }
   ],
   "source": [
    "i=[3,[5,2,['first','second']],9,10]\n",
    "print('i[1]=',i[1])\n",
    "print('i[1][2]=',i[1][2])\n",
    "print('i[1][2][0]=',i[1][2][0])\n",
    "print('i[1][2][0][0]=',i[1][2][0][0])\n",
    "print('i[-1]=',i[-1])"
   ]
  },
  {
   "cell_type": "code",
   "execution_count": 65,
   "id": "2ec1ebde",
   "metadata": {},
   "outputs": [
    {
     "data": {
      "text/plain": [
       "False"
      ]
     },
     "execution_count": 65,
     "metadata": {},
     "output_type": "execute_result"
    }
   ],
   "source": [
    "d={'first':'ali','second':'sara',0:[2,'a']}\n",
    "'ali' in d.keys()"
   ]
  },
  {
   "cell_type": "code",
   "execution_count": 3,
   "id": "ef2ee4f9",
   "metadata": {},
   "outputs": [
    {
     "ename": "AttributeError",
     "evalue": "'str' object has no attribute 'lfind'",
     "output_type": "error",
     "traceback": [
      "\u001b[1;31m---------------------------------------------------------------------------\u001b[0m",
      "\u001b[1;31mAttributeError\u001b[0m                            Traceback (most recent call last)",
      "Input \u001b[1;32mIn [3]\u001b[0m, in \u001b[0;36m<cell line: 1>\u001b[1;34m()\u001b[0m\n\u001b[1;32m----> 1\u001b[0m \u001b[38;5;124;43m'\u001b[39;49m\u001b[38;5;124;43mali mohammad\u001b[39;49m\u001b[38;5;124;43m'\u001b[39;49m\u001b[38;5;241;43m.\u001b[39;49m\u001b[43mlfind\u001b[49m(\u001b[38;5;124m'\u001b[39m\u001b[38;5;124mm\u001b[39m\u001b[38;5;124m'\u001b[39m)\n",
      "\u001b[1;31mAttributeError\u001b[0m: 'str' object has no attribute 'lfind'"
     ]
    }
   ],
   "source": [
    "'ali mohammad'.rfind('m')"
   ]
  },
  {
   "cell_type": "code",
   "execution_count": 8,
   "id": "d4a6ea50",
   "metadata": {},
   "outputs": [
    {
     "name": "stdout",
     "output_type": "stream",
     "text": [
      "tuple slicing example is t[2:4]= (3, 'first')\n",
      "string slicing example is s[1:4]= his\n",
      "list slicing example is l[2:4]= [3, 4]\n"
     ]
    },
    {
     "ename": "TypeError",
     "evalue": "'set' object is not subscriptable",
     "output_type": "error",
     "traceback": [
      "\u001b[1;31m---------------------------------------------------------------------------\u001b[0m",
      "\u001b[1;31mTypeError\u001b[0m                                 Traceback (most recent call last)",
      "Input \u001b[1;32mIn [8]\u001b[0m, in \u001b[0;36m<cell line: 8>\u001b[1;34m()\u001b[0m\n\u001b[0;32m      6\u001b[0m \u001b[38;5;28mprint\u001b[39m(\u001b[38;5;124m'\u001b[39m\u001b[38;5;124mlist slicing example is l[2:4]=\u001b[39m\u001b[38;5;124m'\u001b[39m,l[\u001b[38;5;241m2\u001b[39m:\u001b[38;5;241m4\u001b[39m])\n\u001b[0;32m      7\u001b[0m s\u001b[38;5;241m=\u001b[39m{\u001b[38;5;241m1\u001b[39m,\u001b[38;5;241m2\u001b[39m,\u001b[38;5;241m3\u001b[39m,\u001b[38;5;241m1\u001b[39m,\u001b[38;5;241m3\u001b[39m}\n\u001b[1;32m----> 8\u001b[0m \u001b[43ms\u001b[49m\u001b[43m[\u001b[49m\u001b[38;5;241;43m0\u001b[39;49m\u001b[43m]\u001b[49m\n",
      "\u001b[1;31mTypeError\u001b[0m: 'set' object is not subscriptable"
     ]
    }
   ],
   "source": [
    "t=(1,2,3,'first','second')\n",
    "s='this is a string'\n",
    "l=[1,2,3,4,5,'a']\n",
    "print('tuple slicing example is t[2:4]=',t[2:4])\n",
    "print('string slicing example is s[1:4]=',s[1:4])\n",
    "print('list slicing example is l[2:4]=',l[2:4])\n"
   ]
  },
  {
   "cell_type": "code",
   "execution_count": 10,
   "id": "03617cf4",
   "metadata": {},
   "outputs": [
    {
     "name": "stdout",
     "output_type": "stream",
     "text": [
      "المواقع القديمة في الذاكرة L=  2830443036480 n=  2832479944976 s=  2832528021488 t= 2830442675008\n",
      "المواقع الجديدة في الذاكرة L=  2830443036480 n=  2832479945008 s=  2830442945200 t= 2830442819840\n"
     ]
    }
   ],
   "source": [
    "L=[5,6]\n",
    "n=2\n",
    "s=\"python\"\n",
    "t=('a','b','c')\n",
    "print(\"المواقع القديمة في الذاكرة\", 'L= ',id(L),'n= ',id(n),'s= ',id(s),'t=',id(t))\n",
    "L.append(7)\n",
    "n+=1\n",
    "s=s.upper()\n",
    "t=t[1:]\n",
    "print(\"المواقع الجديدة في الذاكرة\", 'L= ',id(L),'n= ',id(n),'s= ',id(s),'t=',id(t))"
   ]
  },
  {
   "cell_type": "code",
   "execution_count": 11,
   "id": "72aa77f7",
   "metadata": {},
   "outputs": [
    {
     "name": "stdout",
     "output_type": "stream",
     "text": [
      "enter youe name: ali\n",
      "ali\n",
      "<class 'str'>\n"
     ]
    }
   ],
   "source": [
    "s=input('enter youe name: ')\n",
    "print(s)\n",
    "print(type(s))"
   ]
  },
  {
   "cell_type": "code",
   "execution_count": 12,
   "id": "706bd5da",
   "metadata": {},
   "outputs": [
    {
     "name": "stdout",
     "output_type": "stream",
     "text": [
      "enter number: 2\n",
      "2\n",
      "<class 'str'>\n",
      "2\n",
      "<class 'int'>\n"
     ]
    }
   ],
   "source": [
    "a=input('enter number: ')\n",
    "print(a)\n",
    "print(type(a))\n",
    "n=int(a)\n",
    "print(n)\n",
    "print(type(n))"
   ]
  },
  {
   "cell_type": "code",
   "execution_count": 13,
   "id": "f2ebf92b",
   "metadata": {},
   "outputs": [
    {
     "name": "stdout",
     "output_type": "stream",
     "text": [
      "enter first number: 3\n",
      "enter second number: 2\n",
      "32\n"
     ]
    }
   ],
   "source": [
    "a=input('enter first number: ')\n",
    "b=input('enter second number: ')\n",
    "c=a+b\n",
    "print(c)"
   ]
  },
  {
   "cell_type": "code",
   "execution_count": 14,
   "id": "fc4fb5d8",
   "metadata": {},
   "outputs": [
    {
     "name": "stdout",
     "output_type": "stream",
     "text": [
      "enter first number: 3\n",
      "enter second number: 2\n",
      "5\n"
     ]
    }
   ],
   "source": [
    "a=int(input('enter first number: '))\n",
    "b=int(input('enter second number: '))\n",
    "c=a+b\n",
    "print(c)"
   ]
  },
  {
   "cell_type": "code",
   "execution_count": 24,
   "id": "630da0a0",
   "metadata": {},
   "outputs": [
    {
     "name": "stdout",
     "output_type": "stream",
     "text": [
      "hello hi 22 hello word 21 name a#@\n",
      "السطر الثاني\n",
      "\n",
      "السطر الرابع\n"
     ]
    }
   ],
   "source": [
    "a=21\n",
    "s='a#@'\n",
    "print('hello','hi',22,'hello word',a,'name',s)\n",
    "print('السطر الثاني')\n",
    "print()\n",
    "print('السطر الرابع')"
   ]
  },
  {
   "cell_type": "code",
   "execution_count": 25,
   "id": "7a177ce9",
   "metadata": {},
   "outputs": [
    {
     "name": "stdout",
     "output_type": "stream",
     "text": [
      "ali-ali*ali\n",
      "mohammad\n",
      "mohammad\n",
      "mohammad\n"
     ]
    }
   ],
   "source": [
    "print('ali',end='-')\n",
    "print('ali',end='*')\n",
    "print('ali')\n",
    "print('mohammad')\n",
    "print('mohammad')\n",
    "print('mohammad')"
   ]
  },
  {
   "cell_type": "code",
   "execution_count": 27,
   "id": "6a724007",
   "metadata": {},
   "outputs": [
    {
     "name": "stdout",
     "output_type": "stream",
     "text": [
      "ali\n",
      "ali\n",
      "ali\n",
      "mohammad\n",
      "mohammad\n",
      "mohammad\n"
     ]
    }
   ],
   "source": [
    "print('ali',end='-')\n",
    "print('ali',end='*')\n",
    "print('ali')\n",
    "print('mohammad')\n",
    "print('mohammad')\n",
    "print('mohammad')"
   ]
  },
  {
   "cell_type": "code",
   "execution_count": 29,
   "id": "e9871d0c",
   "metadata": {},
   "outputs": [
    {
     "name": "stdout",
     "output_type": "stream",
     "text": [
      "hello word python\n",
      "hellowordpython\n",
      "hello*word*python\n",
      "hello\tword\tpython\n",
      "hello----word----python\n"
     ]
    }
   ],
   "source": [
    "print('hello', 'word', 'python')\n",
    "print('hello', 'word', 'python',sep='')\n",
    "print('hello', 'word', 'python',sep='*')\n",
    "print('hello', 'word', 'python',sep='\\t')\n",
    "print('hello', 'word', 'python',sep='----')"
   ]
  },
  {
   "cell_type": "code",
   "execution_count": 32,
   "id": "ffc16f07",
   "metadata": {},
   "outputs": [
    {
     "name": "stdout",
     "output_type": "stream",
     "text": [
      "enter number: 3\n",
      "3 lower than  5\n"
     ]
    }
   ],
   "source": [
    "x=int(input('enter number: '))\n",
    "if x>5:\n",
    "    print(x,'larger than ',5 )\n",
    "if x<5:\n",
    "    print(x,'lower than ',5 )"
   ]
  },
  {
   "cell_type": "code",
   "execution_count": 33,
   "id": "5c61a0d3",
   "metadata": {},
   "outputs": [
    {
     "name": "stdout",
     "output_type": "stream",
     "text": [
      "4  is between 0 and 7 \n",
      "4  is between 0 and 5 \n"
     ]
    }
   ],
   "source": [
    "x=4\n",
    "if x<10:\n",
    "    if x<7:\n",
    "        print(x,' is between 0 and 7 ' )\n",
    "    if x<5:\n",
    "        print(x,' is between 0 and 5 ' )"
   ]
  },
  {
   "cell_type": "code",
   "execution_count": null,
   "id": "cef93bcc",
   "metadata": {},
   "outputs": [],
   "source": [
    "if  شرط :\n",
    "    تعليمات\n",
    "    ...\n",
    "else:\n",
    "    ...\n",
    "    تعليمات"
   ]
  },
  {
   "cell_type": "code",
   "execution_count": 34,
   "id": "7a0e0f59",
   "metadata": {},
   "outputs": [
    {
     "name": "stdout",
     "output_type": "stream",
     "text": [
      "10 larger than 5\n",
      "2 lower than 5\n"
     ]
    }
   ],
   "source": [
    "x=10\n",
    "if x>5:\n",
    "    print(x,'larger than 5')\n",
    "else:\n",
    "    print(x,'lower than 5')\n",
    "y=2\n",
    "if y>5:\n",
    "    print(y,'larger than 5')\n",
    "else:\n",
    "    print(y,'lower than 5')"
   ]
  },
  {
   "cell_type": "code",
   "execution_count": 35,
   "id": "8c4b2aa8",
   "metadata": {},
   "outputs": [
    {
     "name": "stdout",
     "output_type": "stream",
     "text": [
      "4\n"
     ]
    }
   ],
   "source": [
    "x=10\n",
    "if x>15:\n",
    "    print(1)\n",
    "elif x>12:\n",
    "    print(2)\n",
    "elif x>10:\n",
    "    print(3)\n",
    "else:\n",
    "    print(4)"
   ]
  },
  {
   "cell_type": "code",
   "execution_count": 36,
   "id": "83f7f603",
   "metadata": {},
   "outputs": [
    {
     "name": "stdout",
     "output_type": "stream",
     "text": [
      "2\n"
     ]
    }
   ],
   "source": [
    "x=14\n",
    "if x>15:\n",
    "    print(1)\n",
    "elif x>12:\n",
    "    print(2)\n",
    "elif x>10:\n",
    "    print(3)\n",
    "else:\n",
    "    print(4)"
   ]
  },
  {
   "cell_type": "code",
   "execution_count": 41,
   "id": "20eee328",
   "metadata": {},
   "outputs": [
    {
     "name": "stdout",
     "output_type": "stream",
     "text": [
      "isinstance(x,int) True\n",
      "isinstance(x,float) False\n",
      "\n",
      "s.isdigit() False\n",
      "s.isalpha() True\n",
      "\n",
      "s.isalnum() True\n",
      "s.islower() True\n",
      "s.isupper() False\n",
      "\n",
      "s.isupper() False\n",
      "s.startswith(p) True\n",
      "s.endswith(p) False\n"
     ]
    }
   ],
   "source": [
    "x=5\n",
    "s='python'\n",
    "print('isinstance(x,int)',isinstance(x,int))\n",
    "print('isinstance(x,float)',isinstance(x,float))\n",
    "print()\n",
    "print('s.isdigit()',s.isdigit())\n",
    "print('s.isalpha()',s.isalpha())\n",
    "print()\n",
    "print('s.isalnum()',s.isalnum())\n",
    "print('s.islower()',s.islower())\n",
    "print('s.isupper()',s.isupper())\n",
    "print()\n",
    "print('s.isupper()',s.isupper())\n",
    "print('s.startswith(p)',s.startswith('p'))\n",
    "print('s.endswith(p)',s.endswith('p'))"
   ]
  },
  {
   "cell_type": "code",
   "execution_count": 42,
   "id": "505b7814",
   "metadata": {},
   "outputs": [
    {
     "name": "stdout",
     "output_type": "stream",
     "text": [
      "field\n"
     ]
    }
   ],
   "source": [
    "x=50\n",
    "if isinstance(x,int):\n",
    "    if x>=60:\n",
    "        print('passed')\n",
    "    else:\n",
    "        print('field')\n",
    "else:\n",
    "    print('enter integer number')"
   ]
  },
  {
   "cell_type": "code",
   "execution_count": 44,
   "id": "90da101f",
   "metadata": {},
   "outputs": [
    {
     "ename": "SyntaxError",
     "evalue": "invalid syntax (3298142997.py, line 2)",
     "output_type": "error",
     "traceback": [
      "\u001b[1;36m  Input \u001b[1;32mIn [44]\u001b[1;36m\u001b[0m\n\u001b[1;33m    for n < 6:\u001b[0m\n\u001b[1;37m          ^\u001b[0m\n\u001b[1;31mSyntaxError\u001b[0m\u001b[1;31m:\u001b[0m invalid syntax\n"
     ]
    }
   ],
   "source": [
    "n=1\n",
    "for n < 6:\n",
    "    print(n, end=\" \")\n",
    "    n+=1\n"
   ]
  },
  {
   "cell_type": "code",
   "execution_count": 51,
   "id": "4293b744",
   "metadata": {},
   "outputs": [
    {
     "name": "stdout",
     "output_type": "stream",
     "text": [
      "0\n",
      "1\n",
      "2\n",
      "3\n",
      "4\n"
     ]
    }
   ],
   "source": [
    "for i in range(5):\n",
    "    print(i)"
   ]
  },
  {
   "cell_type": "code",
   "execution_count": 52,
   "id": "099f249a",
   "metadata": {},
   "outputs": [
    {
     "name": "stdout",
     "output_type": "stream",
     "text": [
      "0 1 2 3 4 "
     ]
    }
   ],
   "source": [
    "for i in range(5):\n",
    "    print(i,end=\" \")"
   ]
  },
  {
   "cell_type": "code",
   "execution_count": 54,
   "id": "c7024423",
   "metadata": {},
   "outputs": [
    {
     "name": "stdout",
     "output_type": "stream",
     "text": [
      "2 3 4 "
     ]
    }
   ],
   "source": [
    "for i in range(2,5):\n",
    "    print(i,end=\" \")"
   ]
  },
  {
   "cell_type": "code",
   "execution_count": 61,
   "id": "7511b90e",
   "metadata": {},
   "outputs": [
    {
     "name": "stdout",
     "output_type": "stream",
     "text": [
      "0 1 2 3 4 5 "
     ]
    }
   ],
   "source": [
    "for i in range(7):\n",
    "    print(i,end=\" \")\n",
    "    if i==5:\n",
    "        break"
   ]
  },
  {
   "cell_type": "code",
   "execution_count": 62,
   "id": "1f50c194",
   "metadata": {},
   "outputs": [
    {
     "name": "stdout",
     "output_type": "stream",
     "text": [
      "0 1 2 3 4 5 6 "
     ]
    }
   ],
   "source": [
    "for i in range(7):\n",
    "    print(i,end=\" \")\n",
    "    if i==6:\n",
    "        continue"
   ]
  },
  {
   "cell_type": "code",
   "execution_count": 64,
   "id": "09c4f4e0",
   "metadata": {},
   "outputs": [
    {
     "ename": "SyntaxError",
     "evalue": "invalid syntax (3977642919.py, line 1)",
     "output_type": "error",
     "traceback": [
      "\u001b[1;36m  Input \u001b[1;32mIn [64]\u001b[1;36m\u001b[0m\n\u001b[1;33m    2<3 xor 3>4\u001b[0m\n\u001b[1;37m        ^\u001b[0m\n\u001b[1;31mSyntaxError\u001b[0m\u001b[1;31m:\u001b[0m invalid syntax\n"
     ]
    }
   ],
   "source": [
    "2<3 xor 3>4"
   ]
  },
  {
   "cell_type": "code",
   "execution_count": 65,
   "id": "13c3b3d4",
   "metadata": {
    "scrolled": true
   },
   "outputs": [
    {
     "name": "stdout",
     "output_type": "stream",
     "text": [
      "True\n"
     ]
    }
   ],
   "source": [
    "print(5>3)"
   ]
  },
  {
   "cell_type": "code",
   "execution_count": 66,
   "id": "940a4235",
   "metadata": {},
   "outputs": [
    {
     "name": "stdout",
     "output_type": "stream",
     "text": [
      "False\n"
     ]
    }
   ],
   "source": [
    "print(5==3)"
   ]
  },
  {
   "cell_type": "code",
   "execution_count": 73,
   "id": "2ed155ae",
   "metadata": {},
   "outputs": [
    {
     "name": "stdout",
     "output_type": "stream",
     "text": [
      "1 X 1 = 1\t1 X 2 = 2\t1 X 3 = 3\t1 X 4 = 4\t1 X 5 = 5\t\n",
      "2 X 1 = 2\t2 X 2 = 4\t2 X 3 = 6\t2 X 4 = 8\t2 X 5 = 10\t\n",
      "3 X 1 = 3\t3 X 2 = 6\t3 X 3 = 9\t3 X 4 = 12\t3 X 5 = 15\t\n",
      "4 X 1 = 4\t4 X 2 = 8\t4 X 3 = 12\t4 X 4 = 16\t4 X 5 = 20\t\n",
      "5 X 1 = 5\t5 X 2 = 10\t5 X 3 = 15\t5 X 4 = 20\t5 X 5 = 25\t\n"
     ]
    }
   ],
   "source": [
    "for m in range(1,6):\n",
    "    for n in range(1,6):\n",
    "        print(m,'X',n,'=', m*n, end=\"\\t\")\n",
    "    print()"
   ]
  },
  {
   "cell_type": "code",
   "execution_count": 76,
   "id": "ecea0cfb",
   "metadata": {},
   "outputs": [
    {
     "name": "stdout",
     "output_type": "stream",
     "text": [
      "['Jan', 'Feb', 'Mar', 'Apr', 'May', 'Jun', 'Jul', 'Aug', 'sep', 'Oct', 'Nov', 'Dec']\n"
     ]
    }
   ],
   "source": [
    "m=[]\n",
    "months=[\"January\",\"February\",\"March\",\"April\",\"May\"\n",
    "        ,\"June\",\"July\",\"August\",\"september\",\"October\",\"November\",\"December\"]\n",
    "for i in range(len(months)):\n",
    "    m.append(months[i][0:3])\n",
    "print(m)"
   ]
  },
  {
   "cell_type": "code",
   "execution_count": 113,
   "id": "72b97703",
   "metadata": {
    "scrolled": true
   },
   "outputs": [
    {
     "name": "stdout",
     "output_type": "stream",
     "text": [
      "\t\t ********************\n",
      "\t\t  ******************\n",
      "\t\t   ****************\n",
      "\t\t    **************\n",
      "\t\t     ************\n",
      "\t\t      **********\n",
      "\t\t       ********\n",
      "\t\t        ******\n",
      "\t\t         ****\n",
      "\t\t          **\n",
      "\t\t           \n",
      "\t\t            \n",
      "\t\t             \n",
      "\t\t              \n",
      "\t\t               \n",
      "\t\t                \n",
      "\t\t                 \n",
      "\t\t                  \n",
      "\t\t                   \n",
      "\t\t                    \n"
     ]
    }
   ],
   "source": [
    "s=\"*\"*20\n",
    "print(\"\\t\\t\",s)\n",
    "for i in range(1,len(s)):\n",
    "    print(\"\\t\\t\",\" \"*i+s[i:-i])"
   ]
  },
  {
   "cell_type": "code",
   "execution_count": 154,
   "id": "d79c6350",
   "metadata": {},
   "outputs": [
    {
     "name": "stdout",
     "output_type": "stream",
     "text": [
      "\n",
      " ******************\n",
      "  ****************\n",
      "   **************\n",
      "    ************\n",
      "     **********\n",
      "      ********\n",
      "       ******\n",
      "        ****\n",
      "         **\n",
      "          \n",
      "           \n",
      "            \n",
      "             \n",
      "              \n",
      "               \n",
      "                \n",
      "                 \n",
      "                  \n",
      "                   \n"
     ]
    }
   ],
   "source": [
    "s=\"*\"*20\n",
    "l=[\" \"*i+s[i:-i] for i in range(len(s))]\n",
    "for i in l:\n",
    "    print(i)"
   ]
  },
  {
   "cell_type": "code",
   "execution_count": 139,
   "id": "090ef44b",
   "metadata": {},
   "outputs": [
    {
     "name": "stdout",
     "output_type": "stream",
     "text": [
      "[0, 1, 2, 3, 4, 5, 6, 7, 8, 9, 10, 11, 12, 13, 14, 15, 16, 17, 18, 19, 20, 21, 22, 23, 24, 25, 26, 27, 28, 29, 30]\n"
     ]
    }
   ],
   "source": [
    "l1=[x for x in range(31)]\n",
    "print(l1)\n"
   ]
  },
  {
   "cell_type": "code",
   "execution_count": 140,
   "id": "4e547eba",
   "metadata": {},
   "outputs": [
    {
     "name": "stdout",
     "output_type": "stream",
     "text": [
      "[0, 2, 4, 6, 8, 10, 12, 14, 16, 18, 20, 22, 24, 26, 28, 30]\n"
     ]
    }
   ],
   "source": [
    "l2=[x for x in range(31) if x%2==0]\n",
    "print(l2)"
   ]
  },
  {
   "cell_type": "code",
   "execution_count": 143,
   "id": "78f73f91",
   "metadata": {},
   "outputs": [
    {
     "name": "stdout",
     "output_type": "stream",
     "text": [
      "[43.230000000000004, 40.0]\n"
     ]
    }
   ],
   "source": [
    "l=[4323,4000,2000,1500]\n",
    "l1=[x*0.01 for x in l if x>2000]\n",
    "print(l1)"
   ]
  },
  {
   "cell_type": "code",
   "execution_count": 149,
   "id": "0dcc9b26",
   "metadata": {},
   "outputs": [
    {
     "name": "stdout",
     "output_type": "stream",
     "text": [
      "[43.230000000000004, 40.0]\n"
     ]
    }
   ],
   "source": [
    "l=[4323,4000,2000,1500]\n",
    "l1=[]\n",
    "for i in l:\n",
    "    if i>2000:\n",
    "        l1.append(i*0.01)\n",
    "print(l1)"
   ]
  },
  {
   "cell_type": "code",
   "execution_count": 144,
   "id": "89eebb2d",
   "metadata": {},
   "outputs": [
    {
     "name": "stdout",
     "output_type": "stream",
     "text": [
      "{10: 100, 11: 121, 12: 144, 13: 169, 14: 196, 15: 225, 16: 256, 17: 289, 18: 324, 19: 361, 20: 400}\n"
     ]
    }
   ],
   "source": [
    "d={x:x**2 for x in range(10,21)}\n",
    "print(d)"
   ]
  },
  {
   "cell_type": "code",
   "execution_count": 145,
   "id": "d460368f",
   "metadata": {},
   "outputs": [
    {
     "name": "stdout",
     "output_type": "stream",
     "text": [
      "{10: 100, 11: 121, 12: 144, 13: 169, 14: 196, 15: 225, 16: 256, 17: 289, 18: 324, 19: 361, 20: 400}\n"
     ]
    }
   ],
   "source": [
    "d={}\n",
    "for i in range(10,21):\n",
    "    d[i]=i**2\n",
    "print(d)"
   ]
  },
  {
   "cell_type": "code",
   "execution_count": null,
   "id": "85f76aca",
   "metadata": {},
   "outputs": [],
   "source": []
  },
  {
   "cell_type": "code",
   "execution_count": 135,
   "id": "b6694fa7",
   "metadata": {},
   "outputs": [
    {
     "name": "stdout",
     "output_type": "stream",
     "text": [
      "are you student or teacher, please enter s or t: s\n",
      "enter your name: ali\n",
      "dont match\n",
      "dont match\n",
      "dont match\n",
      "do you want to continue as for yes enter y: y\n",
      "are you student or teacher, please enter s or t: t\n",
      "select course, 1 or 2 or 3: \n",
      "2\n",
      "enter student name: \n",
      "ali\n",
      "enter the mark: \n",
      "100\n",
      "do you want to continue as for yes enter y: y\n",
      "are you student or teacher, please enter s or t: s\n",
      "enter your name: ali\n",
      "dont match\n",
      "100\n",
      "dont match\n",
      "your average rate is  33.333333333333336\n",
      "do you want to continue as for yes enter y: y\n",
      "are you student or teacher, please enter s or t: karam\n",
      "error input, try again\n",
      "\n",
      "are you student or teacher, please enter s or t: s\n",
      "enter your name: sara\n",
      "50\n",
      "80\n",
      "61\n",
      "your average rate is  63.666666666666664\n",
      "do you want to continue as for yes enter y: n\n"
     ]
    }
   ],
   "source": [
    "course1={'karam':70,'sara':50,'rana':84,'sam':45}\n",
    "course2={'karam':90,'sara':80,'rana':60,'sam':30}\n",
    "course3={'karam':72,'sara':61,'rana':82,'sam':90}\n",
    "l=[course1,course2,course3]\n",
    "while True:\n",
    "    avg=0\n",
    "    ty=input('are you student or teacher, please enter s or t: ')\n",
    "    if ty=='s':\n",
    "        sname=input('enter your name: ')\n",
    "        for d in l:\n",
    "            if sname in d.keys():\n",
    "                print(d[sname])\n",
    "                avg+=d[sname]\n",
    "            else:\n",
    "                print('don''t match')\n",
    "        if avg:\n",
    "            print(\"your average rate is \", avg/len(l))\n",
    "        s=input('do you want to continue as for yes enter y: ')\n",
    "        if s!='y':\n",
    "            break\n",
    "    elif ty=='t':\n",
    "        c=input('select course, 1 or 2 or 3: \\n')\n",
    "        if c=='1':\n",
    "            sname=input('enter student name: \\n')\n",
    "            course1[sname]=int(input('enter the mark: \\n'))\n",
    "        elif c=='2':\n",
    "            sname=input('enter student name: \\n')\n",
    "            course2[sname]=int(input('enter the mark: \\n'))\n",
    "        elif c=='3':\n",
    "            sname=input('enter student name: \\n')\n",
    "            course3[sname]=int(input('enter the mark: \\n'))\n",
    "        \n",
    "        else:\n",
    "            print('dont match, try again \\n')\n",
    "        s=input('do you want to continue as for yes enter y: ')\n",
    "        if s!='y':\n",
    "            break\n",
    "    else:\n",
    "        print('error input, try again\\n')"
   ]
  },
  {
   "cell_type": "code",
   "execution_count": 127,
   "id": "68c2c400",
   "metadata": {},
   "outputs": [
    {
     "data": {
      "text/plain": [
       "[{'karam': 70, 'sara': 50, 'rana': 84, 'sam': 45},\n",
       " {'karam': 90, 'sara': 80, 'rana': 60, 'sam': 30},\n",
       " {'karam': 72, 'sara': 61, 'rana': 82, 'sam': 90}]"
      ]
     },
     "execution_count": 127,
     "metadata": {},
     "output_type": "execute_result"
    }
   ],
   "source": [
    "course1={'karam':70,'sara':50,'rana':84,'sam':45}\n",
    "course2={'karam':90,'sara':80,'rana':60,'sam':30}\n",
    "course3={'karam':72,'sara':61,'rana':82,'sam':90}\n",
    "l=[course1,course2,course3]\n",
    "l"
   ]
  },
  {
   "cell_type": "code",
   "execution_count": 160,
   "id": "9fc3f3f3",
   "metadata": {},
   "outputs": [
    {
     "name": "stdout",
     "output_type": "stream",
     "text": [
      "first line\n",
      "second line\n",
      "third line\n",
      "<class 'str'>\n",
      "['first line', 'second line', 'third line']\n",
      "<class 'list'>\n"
     ]
    }
   ],
   "source": [
    "infile=open('E:\\\\files\\\\file.txt','r')\n",
    "s=infile.read()\n",
    "print(s)\n",
    "print(type(s))\n",
    "l=s.splitlines()\n",
    "print(l)\n",
    "print(type(l))\n",
    "infile.close()"
   ]
  },
  {
   "cell_type": "code",
   "execution_count": 164,
   "id": "ad1b5088",
   "metadata": {},
   "outputs": [
    {
     "name": "stdout",
     "output_type": "stream",
     "text": [
      "first line\n",
      "\n",
      "second line\n",
      "\n",
      "first line\n",
      "\n"
     ]
    }
   ],
   "source": [
    "filename='E:\\\\files\\\\file.txt'\n",
    "infile=open(filename,'r')\n",
    "print(infile.readline())\n",
    "print(infile.readline())\n",
    "infile.seek(0)\n",
    "print(infile.readline())\n",
    "infile.close()"
   ]
  },
  {
   "cell_type": "code",
   "execution_count": 165,
   "id": "64334940",
   "metadata": {},
   "outputs": [
    {
     "name": "stdout",
     "output_type": "stream",
     "text": [
      "['first line\\n', 'second line\\n', 'third line']\n"
     ]
    }
   ],
   "source": [
    "filename='E:\\\\files\\\\file.txt'\n",
    "infile=open(filename,'r')\n",
    "listvar=[line for line in infile]\n",
    "print(listvar)\n",
    "infile.close()"
   ]
  },
  {
   "cell_type": "code",
   "execution_count": 166,
   "id": "2fcafa08",
   "metadata": {},
   "outputs": [
    {
     "name": "stdout",
     "output_type": "stream",
     "text": [
      "['first line\\n', 'second line\\n', 'third line']\n"
     ]
    }
   ],
   "source": [
    "filename='E:\\\\files\\\\file.txt'\n",
    "infile=open(filename,'r')\n",
    "listvar=infile.readlines()\n",
    "print(listvar)\n",
    "infile.close()"
   ]
  },
  {
   "cell_type": "code",
   "execution_count": 169,
   "id": "eb88e089",
   "metadata": {},
   "outputs": [],
   "source": [
    "filename='E:\\\\files\\\\outfile.txt'\n",
    "outfile=open(filename,'w')\n",
    "l=['first line\\n', 'second line\\n', 'third line']\n",
    "outfile.writelines(l)\n",
    "outfile.close()"
   ]
  },
  {
   "cell_type": "code",
   "execution_count": 171,
   "id": "5990544a",
   "metadata": {},
   "outputs": [],
   "source": [
    "import pickle\n",
    "d={'karam':93,'rana':75,\"sara\":56}\n",
    "filename = 'E:\\\\files\\p.pkl'\n",
    "outfile = open(filename, 'wb')\n",
    "pickle.dump(d, outfile)\n",
    "outfile.close()"
   ]
  },
  {
   "cell_type": "code",
   "execution_count": 173,
   "id": "2b8b4201",
   "metadata": {},
   "outputs": [
    {
     "name": "stdout",
     "output_type": "stream",
     "text": [
      "{'karam': 93, 'rana': 75, 'sara': 56}\n"
     ]
    }
   ],
   "source": [
    "import pickle\n",
    "filename = 'E:\\\\files\\p.pkl'\n",
    "infile = open(filename, 'rb')\n",
    "d=pickle.load(infile)\n",
    "print(d)\n",
    "infile.close()"
   ]
  },
  {
   "cell_type": "code",
   "execution_count": null,
   "id": "52c3400e",
   "metadata": {},
   "outputs": [],
   "source": []
  }
 ],
 "metadata": {
  "kernelspec": {
   "display_name": "Python 3 (ipykernel)",
   "language": "python",
   "name": "python3"
  },
  "language_info": {
   "codemirror_mode": {
    "name": "ipython",
    "version": 3
   },
   "file_extension": ".py",
   "mimetype": "text/x-python",
   "name": "python",
   "nbconvert_exporter": "python",
   "pygments_lexer": "ipython3",
   "version": "3.10.4"
  }
 },
 "nbformat": 4,
 "nbformat_minor": 5
}
